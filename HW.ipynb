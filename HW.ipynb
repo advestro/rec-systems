{
 "cells": [
  {
   "cell_type": "markdown",
   "id": "089042a5-f177-4e1e-911e-8dc8d0b90d46",
   "metadata": {},
   "source": [
    "Домашнє завдання \n",
    "==\n",
    "\n",
    "В цьому завданні потрібно побудувати рекомендатор, використовуючи колаборативну фільтрацію. На вибір можна обрати наступні алгоритми із бібліотеки surprise\n",
    "* KNNWithMeans - алгоритм, що враховує середні значення\n",
    "* KNNWithZScore - алгоритм, що використовує нормалізацію\n",
    "* SVD\n",
    "\n",
    "Датасет - Book crossing. \n",
    "\n",
    "Фінальна функція приймає на вхід користувача (User-Id) та видає йому 10 рекомендацій книг. \n",
    "\n",
    "За бажанням можна також приділити більше уваги очищенню даних\n",
    "* Прибрати дублікати\n",
    "* Видалити схожі, але різні назви однієї і тієї ж книги"
   ]
  },
  {
   "cell_type": "code",
   "execution_count": 1,
   "id": "01526396",
   "metadata": {},
   "outputs": [],
   "source": [
    "import pandas as pd\n",
    "import numpy as np\n",
    "import matplotlib.pyplot as plt\n",
    "import seaborn as sns\n",
    "\n",
    "from surprise import Dataset\n",
    "from surprise import Reader\n",
    "from surprise import KNNBasic, KNNWithMeans, KNNWithZScore\n",
    "from surprise.model_selection import cross_validate, train_test_split, GridSearchCV\n",
    "\n",
    "from warnings import filterwarnings\n",
    "filterwarnings(\"ignore\")"
   ]
  },
  {
   "cell_type": "markdown",
   "id": "efc195d4",
   "metadata": {},
   "source": [
    "Згідно з <b>BookCrossingEDA</b> файл users_ratings вже містить юзерів та книги, які мають достатню кількість відгуків (приймаємо за мінімум вказане значення у 50 відгуків)\n",
    "\n",
    "Зчитаємо дані та пофіксимо помилки в колонці Age. Евристично припускаємо, що користувачі з віком > 120 або <4 вказали вік помилково. \n",
    "\n",
    "Створюємо вікові групи відповідно до віку користувача."
   ]
  },
  {
   "cell_type": "code",
   "execution_count": 2,
   "id": "2ffac1cd-0b08-4f09-b02e-e98ad1da65d3",
   "metadata": {},
   "outputs": [
    {
     "data": {
      "text/html": [
       "<div>\n",
       "<style scoped>\n",
       "    .dataframe tbody tr th:only-of-type {\n",
       "        vertical-align: middle;\n",
       "    }\n",
       "\n",
       "    .dataframe tbody tr th {\n",
       "        vertical-align: top;\n",
       "    }\n",
       "\n",
       "    .dataframe thead th {\n",
       "        text-align: right;\n",
       "    }\n",
       "</style>\n",
       "<table border=\"1\" class=\"dataframe\">\n",
       "  <thead>\n",
       "    <tr style=\"text-align: right;\">\n",
       "      <th></th>\n",
       "      <th>User-ID</th>\n",
       "      <th>Age</th>\n",
       "      <th>ISBN</th>\n",
       "      <th>Rating</th>\n",
       "      <th>Age-bins</th>\n",
       "    </tr>\n",
       "  </thead>\n",
       "  <tbody>\n",
       "    <tr>\n",
       "      <th>127308</th>\n",
       "      <td>262070</td>\n",
       "      <td>28.0</td>\n",
       "      <td>0156027321</td>\n",
       "      <td>0</td>\n",
       "      <td>(21, 60]</td>\n",
       "    </tr>\n",
       "    <tr>\n",
       "      <th>127309</th>\n",
       "      <td>262070</td>\n",
       "      <td>28.0</td>\n",
       "      <td>0375703861</td>\n",
       "      <td>0</td>\n",
       "      <td>(21, 60]</td>\n",
       "    </tr>\n",
       "    <tr>\n",
       "      <th>127310</th>\n",
       "      <td>262070</td>\n",
       "      <td>28.0</td>\n",
       "      <td>0439064864</td>\n",
       "      <td>0</td>\n",
       "      <td>(21, 60]</td>\n",
       "    </tr>\n",
       "    <tr>\n",
       "      <th>127311</th>\n",
       "      <td>262070</td>\n",
       "      <td>28.0</td>\n",
       "      <td>0439139600</td>\n",
       "      <td>0</td>\n",
       "      <td>(21, 60]</td>\n",
       "    </tr>\n",
       "    <tr>\n",
       "      <th>127312</th>\n",
       "      <td>262070</td>\n",
       "      <td>28.0</td>\n",
       "      <td>0971880107</td>\n",
       "      <td>0</td>\n",
       "      <td>(21, 60]</td>\n",
       "    </tr>\n",
       "  </tbody>\n",
       "</table>\n",
       "</div>"
      ],
      "text/plain": [
       "        User-ID   Age        ISBN  Rating  Age-bins\n",
       "127308   262070  28.0  0156027321       0  (21, 60]\n",
       "127309   262070  28.0  0375703861       0  (21, 60]\n",
       "127310   262070  28.0  0439064864       0  (21, 60]\n",
       "127311   262070  28.0  0439139600       0  (21, 60]\n",
       "127312   262070  28.0  0971880107       0  (21, 60]"
      ]
     },
     "execution_count": 2,
     "metadata": {},
     "output_type": "execute_result"
    }
   ],
   "source": [
    "df = pd.read_csv(\"datasets/book-crossing/users-ratings.csv\")\n",
    "books = pd.read_csv(\"datasets/book-crossing/Books.csv\", on_bad_lines=\"skip\", delimiter=\";\")\n",
    "\n",
    "df[\"Age\"] = pd.to_numeric(df[\"Age\"], errors=\"coerce\")\n",
    "df[\"Age\"] = df[\"Age\"].apply(lambda x: x if x >= 4 and x <= 120 else np.nan)\n",
    "\n",
    "bins = [4, 14, 21, 60, 120] \n",
    "df[\"Age-bins\"] = pd.cut(df[\"Age\"], bins)\n",
    "\n",
    "df.tail()"
   ]
  },
  {
   "cell_type": "markdown",
   "id": "964bcbc1",
   "metadata": {},
   "source": [
    "За умовами, які були проговорені на заняттях, якщо рейтинг = 0, то це означає, що юзер не дав рейтинг відповідній книзі."
   ]
  },
  {
   "cell_type": "markdown",
   "id": "b4257e8d",
   "metadata": {},
   "source": [
    "Підготуємо дані для подальшого прогнозування. Для тренування моделі використовуватимемо лише юзерів з рейтингом > 0."
   ]
  },
  {
   "cell_type": "code",
   "execution_count": 3,
   "id": "728eb503",
   "metadata": {},
   "outputs": [],
   "source": [
    "reader = Reader(rating_scale=(1, 10))\n",
    "data = Dataset.load_from_df(df[[\"User-ID\", \"ISBN\", \"Rating\"]][(df[\"Rating\"] > 0)], reader)"
   ]
  },
  {
   "cell_type": "markdown",
   "id": "3a01ec76",
   "metadata": {},
   "source": [
    "Проведемо крос-валідацію 3 різних алгоритмів KNN, щоб обрати кращий"
   ]
  },
  {
   "cell_type": "code",
   "execution_count": 4,
   "id": "2f53a2df",
   "metadata": {},
   "outputs": [
    {
     "name": "stdout",
     "output_type": "stream",
     "text": [
      "Computing the cosine similarity matrix...\n",
      "Done computing similarity matrix.\n",
      "Computing the cosine similarity matrix...\n",
      "Done computing similarity matrix.\n",
      "Computing the cosine similarity matrix...\n",
      "Done computing similarity matrix.\n",
      "Computing the cosine similarity matrix...\n",
      "Done computing similarity matrix.\n",
      "Computing the cosine similarity matrix...\n",
      "Done computing similarity matrix.\n",
      "Computing the cosine similarity matrix...\n",
      "Done computing similarity matrix.\n",
      "Computing the cosine similarity matrix...\n",
      "Done computing similarity matrix.\n",
      "Computing the cosine similarity matrix...\n",
      "Done computing similarity matrix.\n",
      "Computing the cosine similarity matrix...\n",
      "Done computing similarity matrix.\n"
     ]
    },
    {
     "data": {
      "text/html": [
       "<div>\n",
       "<style scoped>\n",
       "    .dataframe tbody tr th:only-of-type {\n",
       "        vertical-align: middle;\n",
       "    }\n",
       "\n",
       "    .dataframe tbody tr th {\n",
       "        vertical-align: top;\n",
       "    }\n",
       "\n",
       "    .dataframe thead th {\n",
       "        text-align: right;\n",
       "    }\n",
       "</style>\n",
       "<table border=\"1\" class=\"dataframe\">\n",
       "  <thead>\n",
       "    <tr style=\"text-align: right;\">\n",
       "      <th></th>\n",
       "      <th>algorithm</th>\n",
       "      <th>rmse</th>\n",
       "    </tr>\n",
       "  </thead>\n",
       "  <tbody>\n",
       "    <tr>\n",
       "      <th>2</th>\n",
       "      <td>KNN with means</td>\n",
       "      <td>1.671883</td>\n",
       "    </tr>\n",
       "    <tr>\n",
       "      <th>1</th>\n",
       "      <td>KNN with Z-score</td>\n",
       "      <td>1.688256</td>\n",
       "    </tr>\n",
       "    <tr>\n",
       "      <th>0</th>\n",
       "      <td>KNN basics</td>\n",
       "      <td>1.707288</td>\n",
       "    </tr>\n",
       "  </tbody>\n",
       "</table>\n",
       "</div>"
      ],
      "text/plain": [
       "          algorithm      rmse\n",
       "2    KNN with means  1.671883\n",
       "1  KNN with Z-score  1.688256\n",
       "0        KNN basics  1.707288"
      ]
     },
     "execution_count": 4,
     "metadata": {},
     "output_type": "execute_result"
    }
   ],
   "source": [
    "algos = [\n",
    "    {\"name\":\"KNN basics\", \"func\": KNNBasic},\n",
    "    {\"name\":\"KNN with Z-score\", \"func\": KNNWithZScore},\n",
    "    {\"name\": \"KNN with means\", \"func\": KNNWithMeans}\n",
    "]\n",
    "\n",
    "sim_options = {\"name\": \"cosine\", \"user_based\": False}\n",
    "\n",
    "results = []\n",
    "for algo in algos:\n",
    "    algorithm = algo.get(\"func\")\n",
    "    name = algo.get(\"name\")\n",
    "    result = cross_validate(algorithm(sim_options=sim_options), data, measures=['RMSE'], cv=3, verbose=False)\n",
    "    results.append({\"algorithm\": name, \"rmse\": np.mean(result.get(\"test_rmse\"))})\n",
    "\n",
    "results_df = pd.DataFrame(results)\n",
    "results_df.sort_values(by=\"rmse\")"
   ]
  },
  {
   "cell_type": "markdown",
   "id": "75b7a883",
   "metadata": {},
   "source": [
    "KNN with means дає найкращий показник rmse.\n",
    "\n",
    "Створимо train / test-датасет та застосуємо до них обрану модель."
   ]
  },
  {
   "cell_type": "code",
   "execution_count": 5,
   "id": "2ce429cf",
   "metadata": {},
   "outputs": [],
   "source": [
    "train, test = train_test_split(data)"
   ]
  },
  {
   "cell_type": "code",
   "execution_count": 6,
   "id": "381005f5",
   "metadata": {},
   "outputs": [
    {
     "name": "stdout",
     "output_type": "stream",
     "text": [
      "Computing the cosine similarity matrix...\n",
      "Done computing similarity matrix.\n"
     ]
    },
    {
     "data": {
      "text/plain": [
       "7.563343950497885"
      ]
     },
     "execution_count": 6,
     "metadata": {},
     "output_type": "execute_result"
    }
   ],
   "source": [
    "algorithm = KNNWithMeans(sim_options=sim_options)\n",
    "algorithm.fit(train)\n",
    "prediction = algorithm.predict(243, \"0060977493\")\n",
    "prediction.est"
   ]
  },
  {
   "cell_type": "markdown",
   "id": "638b7fbe",
   "metadata": {},
   "source": [
    "На прикладі першого взятого юзера бачимо, що алгоритм дав est 7.01 проти 7 rui. Застосуємо натреновану модель до тест-датасету та оцінимо результати.  "
   ]
  },
  {
   "cell_type": "code",
   "execution_count": 7,
   "id": "8c7064b9",
   "metadata": {},
   "outputs": [],
   "source": [
    "predictions = algorithm.test(test)"
   ]
  },
  {
   "cell_type": "markdown",
   "id": "576ed2ca",
   "metadata": {},
   "source": [
    "Введемо метрику hit_counts для оцінки результатів"
   ]
  },
  {
   "cell_type": "code",
   "execution_count": 8,
   "id": "7e8c0167",
   "metadata": {},
   "outputs": [
    {
     "data": {
      "text/plain": [
       "0.7006954467917597"
      ]
     },
     "execution_count": 8,
     "metadata": {},
     "output_type": "execute_result"
    }
   ],
   "source": [
    "like = 7\n",
    "\n",
    "hits = [1 for prediction in predictions if prediction.est >= like and prediction.r_ui >= like]\n",
    "hit_rate = sum(hits) / len(predictions)\n",
    "\n",
    "hit_rate"
   ]
  },
  {
   "cell_type": "markdown",
   "id": "cd66e1ae",
   "metadata": {},
   "source": [
    "Впровадимо функцію для отримання топ-10 рекомендацій для конкретного юзера.\n",
    "\n",
    "В функцію додамо пост-обробку, а саме: не рекомендувати книги, які юзер вже оцінив.\n",
    "\n",
    "Також додаємо можливість вивести загальний топ-список книг для \"холодного старту\"."
   ]
  },
  {
   "cell_type": "code",
   "execution_count": 9,
   "id": "2b0f663c",
   "metadata": {},
   "outputs": [],
   "source": [
    "def get_recommendations(user_id: int, top_n: int = 10):\n",
    "    unique_users = df[\"User-ID\"].unique().tolist()\n",
    "    if user_id in unique_users:\n",
    "        algorithm = KNNWithMeans(sim_options=sim_options)\n",
    "        data = Dataset.load_from_df(df[[\"User-ID\", \"ISBN\", \"Rating\"]][(df[\"Rating\"] > 0)], reader)\n",
    "        model = algorithm.fit(data.build_full_trainset()) # Ось тут не впевнений чи правильно. Коли ми вже обрали модель, то на проді ми ж навчаємо її на всіх наявних даних, вірно?\n",
    "        not_rated_by_user = df[(df[\"Rating\"] == 0) & (df[\"User-ID\"] == user_id)][\"ISBN\"].unique().tolist()\n",
    "        predictions = [model.predict(user_id, book_id) for book_id in not_rated_by_user]\n",
    "        predictions.sort(key=lambda x: x.est, reverse=True)\n",
    "        top_n = predictions[:top_n]\n",
    "        result = pd.DataFrame([{\"ISBN\": row.iid, \"Predicted rating\": row.est} for row in top_n])\n",
    "        return result.merge(right=books, how=\"left\", on=\"ISBN\")\n",
    "    else:\n",
    "        grouped_df = df[(df[\"Rating\"]>0)].groupby(\"ISBN\", as_index=False).agg({\"User-ID\": \"count\", \"Rating\": \"mean\"})\n",
    "        grouped_df.sort_values(by=[\"User-ID\", \"Rating\"], ascending=False, inplace=True, ignore_index=True)\n",
    "        return grouped_df[(grouped_df[\"Rating\"] >= like)][[\"ISBN\", \"Rating\"]][:top_n]"
   ]
  },
  {
   "cell_type": "markdown",
   "id": "458aa1c4",
   "metadata": {},
   "source": [
    "Протестуємо результат на реальному юзері."
   ]
  },
  {
   "cell_type": "code",
   "execution_count": 10,
   "id": "3f3a9fb2",
   "metadata": {},
   "outputs": [
    {
     "name": "stdout",
     "output_type": "stream",
     "text": [
      "Computing the cosine similarity matrix...\n",
      "Done computing similarity matrix.\n"
     ]
    },
    {
     "data": {
      "text/html": [
       "<div>\n",
       "<style scoped>\n",
       "    .dataframe tbody tr th:only-of-type {\n",
       "        vertical-align: middle;\n",
       "    }\n",
       "\n",
       "    .dataframe tbody tr th {\n",
       "        vertical-align: top;\n",
       "    }\n",
       "\n",
       "    .dataframe thead th {\n",
       "        text-align: right;\n",
       "    }\n",
       "</style>\n",
       "<table border=\"1\" class=\"dataframe\">\n",
       "  <thead>\n",
       "    <tr style=\"text-align: right;\">\n",
       "      <th></th>\n",
       "      <th>ISBN</th>\n",
       "      <th>Predicted rating</th>\n",
       "      <th>Title</th>\n",
       "      <th>Rating</th>\n",
       "    </tr>\n",
       "  </thead>\n",
       "  <tbody>\n",
       "    <tr>\n",
       "      <th>0</th>\n",
       "      <td>3257229534</td>\n",
       "      <td>10.000000</td>\n",
       "      <td>Der Vorleser</td>\n",
       "      <td>0</td>\n",
       "    </tr>\n",
       "    <tr>\n",
       "      <th>1</th>\n",
       "      <td>3426029553</td>\n",
       "      <td>9.813555</td>\n",
       "      <td>NaN</td>\n",
       "      <td>0</td>\n",
       "    </tr>\n",
       "    <tr>\n",
       "      <th>2</th>\n",
       "      <td>0345339711</td>\n",
       "      <td>9.434301</td>\n",
       "      <td>The Two Towers (The Lord of the Rings, Part 2)</td>\n",
       "      <td>0</td>\n",
       "    </tr>\n",
       "    <tr>\n",
       "      <th>3</th>\n",
       "      <td>0439136350</td>\n",
       "      <td>9.289214</td>\n",
       "      <td>Harry Potter and the Prisoner of Azkaban (Book 3)</td>\n",
       "      <td>0</td>\n",
       "    </tr>\n",
       "    <tr>\n",
       "      <th>4</th>\n",
       "      <td>043935806X</td>\n",
       "      <td>9.092557</td>\n",
       "      <td>Harry Potter and the Order of the Phoenix (Boo...</td>\n",
       "      <td>0</td>\n",
       "    </tr>\n",
       "    <tr>\n",
       "      <th>5</th>\n",
       "      <td>0446310786</td>\n",
       "      <td>9.087503</td>\n",
       "      <td>To Kill a Mockingbird</td>\n",
       "      <td>0</td>\n",
       "    </tr>\n",
       "    <tr>\n",
       "      <th>6</th>\n",
       "      <td>0142001740</td>\n",
       "      <td>9.049839</td>\n",
       "      <td>The Secret Life of Bees</td>\n",
       "      <td>0</td>\n",
       "    </tr>\n",
       "    <tr>\n",
       "      <th>7</th>\n",
       "      <td>0440217563</td>\n",
       "      <td>9.049294</td>\n",
       "      <td>Voyager</td>\n",
       "      <td>0</td>\n",
       "    </tr>\n",
       "    <tr>\n",
       "      <th>8</th>\n",
       "      <td>0552137030</td>\n",
       "      <td>9.031515</td>\n",
       "      <td>NaN</td>\n",
       "      <td>0</td>\n",
       "    </tr>\n",
       "    <tr>\n",
       "      <th>9</th>\n",
       "      <td>0385503857</td>\n",
       "      <td>9.013277</td>\n",
       "      <td>Oryx and Crake</td>\n",
       "      <td>0</td>\n",
       "    </tr>\n",
       "  </tbody>\n",
       "</table>\n",
       "</div>"
      ],
      "text/plain": [
       "         ISBN  Predicted rating  \\\n",
       "0  3257229534         10.000000   \n",
       "1  3426029553          9.813555   \n",
       "2  0345339711          9.434301   \n",
       "3  0439136350          9.289214   \n",
       "4  043935806X          9.092557   \n",
       "5  0446310786          9.087503   \n",
       "6  0142001740          9.049839   \n",
       "7  0440217563          9.049294   \n",
       "8  0552137030          9.031515   \n",
       "9  0385503857          9.013277   \n",
       "\n",
       "                                               Title  Rating  \n",
       "0                                       Der Vorleser       0  \n",
       "1                                                NaN       0  \n",
       "2     The Two Towers (The Lord of the Rings, Part 2)       0  \n",
       "3  Harry Potter and the Prisoner of Azkaban (Book 3)       0  \n",
       "4  Harry Potter and the Order of the Phoenix (Boo...       0  \n",
       "5                              To Kill a Mockingbird       0  \n",
       "6                            The Secret Life of Bees       0  \n",
       "7                                            Voyager       0  \n",
       "8                                                NaN       0  \n",
       "9                                     Oryx and Crake       0  "
      ]
     },
     "execution_count": 10,
     "metadata": {},
     "output_type": "execute_result"
    }
   ],
   "source": [
    "recommendation = get_recommendations(11676)\n",
    "\n",
    "user_11676 = df[(df[\"User-ID\"] == 11676)]\n",
    "real_ratings = user_11676[(user_11676[\"ISBN\"].isin(recommendation[\"ISBN\"].unique().tolist()))]\n",
    "\n",
    "result = pd.merge(left=recommendation[[\"ISBN\", \"Predicted rating\", \"Title\"]], right=real_ratings[[\"ISBN\", \"Rating\"]], how=\"inner\", on=\"ISBN\")\n",
    "result"
   ]
  },
  {
   "cell_type": "markdown",
   "id": "6eac9042",
   "metadata": {},
   "source": [
    "Переконуємося, що все працює і ми рекомендуємо книги, які юзер до цього не оцінював.\n",
    "\n",
    "Переконаємося, що це схоже на те, що юзер лайкав в реальності."
   ]
  },
  {
   "cell_type": "code",
   "execution_count": 11,
   "id": "126055ff",
   "metadata": {},
   "outputs": [
    {
     "data": {
      "text/html": [
       "<div>\n",
       "<style scoped>\n",
       "    .dataframe tbody tr th:only-of-type {\n",
       "        vertical-align: middle;\n",
       "    }\n",
       "\n",
       "    .dataframe tbody tr th {\n",
       "        vertical-align: top;\n",
       "    }\n",
       "\n",
       "    .dataframe thead th {\n",
       "        text-align: right;\n",
       "    }\n",
       "</style>\n",
       "<table border=\"1\" class=\"dataframe\">\n",
       "  <thead>\n",
       "    <tr style=\"text-align: right;\">\n",
       "      <th></th>\n",
       "      <th>User-ID</th>\n",
       "      <th>ISBN</th>\n",
       "      <th>Rating</th>\n",
       "      <th>Title</th>\n",
       "    </tr>\n",
       "  </thead>\n",
       "  <tbody>\n",
       "    <tr>\n",
       "      <th>729</th>\n",
       "      <td>11676</td>\n",
       "      <td>0440967694</td>\n",
       "      <td>10</td>\n",
       "      <td>The Outsiders</td>\n",
       "    </tr>\n",
       "    <tr>\n",
       "      <th>997</th>\n",
       "      <td>11676</td>\n",
       "      <td>0515136530</td>\n",
       "      <td>10</td>\n",
       "      <td>Key of Valor (Roberts, Nora. Key Trilogy, 3.)</td>\n",
       "    </tr>\n",
       "    <tr>\n",
       "      <th>208</th>\n",
       "      <td>11676</td>\n",
       "      <td>0316693324</td>\n",
       "      <td>10</td>\n",
       "      <td>When the Wind Blows</td>\n",
       "    </tr>\n",
       "    <tr>\n",
       "      <th>209</th>\n",
       "      <td>11676</td>\n",
       "      <td>0316734837</td>\n",
       "      <td>10</td>\n",
       "      <td>Fortune's Rocks : A Novel</td>\n",
       "    </tr>\n",
       "    <tr>\n",
       "      <th>1091</th>\n",
       "      <td>11676</td>\n",
       "      <td>0553574574</td>\n",
       "      <td>10</td>\n",
       "      <td>Beach Music</td>\n",
       "    </tr>\n",
       "    <tr>\n",
       "      <th>213</th>\n",
       "      <td>11676</td>\n",
       "      <td>0316777722</td>\n",
       "      <td>10</td>\n",
       "      <td>Me Talk Pretty One Day</td>\n",
       "    </tr>\n",
       "    <tr>\n",
       "      <th>217</th>\n",
       "      <td>11676</td>\n",
       "      <td>0316779490</td>\n",
       "      <td>10</td>\n",
       "      <td>Naked</td>\n",
       "    </tr>\n",
       "    <tr>\n",
       "      <th>1063</th>\n",
       "      <td>11676</td>\n",
       "      <td>0553375407</td>\n",
       "      <td>10</td>\n",
       "      <td>Ishmael: An Adventure of the Mind and Spirit</td>\n",
       "    </tr>\n",
       "    <tr>\n",
       "      <th>1062</th>\n",
       "      <td>11676</td>\n",
       "      <td>0553348973</td>\n",
       "      <td>10</td>\n",
       "      <td>Still Life with Woodpecker</td>\n",
       "    </tr>\n",
       "    <tr>\n",
       "      <th>1061</th>\n",
       "      <td>11676</td>\n",
       "      <td>0553297260</td>\n",
       "      <td>10</td>\n",
       "      <td>Darkness</td>\n",
       "    </tr>\n",
       "  </tbody>\n",
       "</table>\n",
       "</div>"
      ],
      "text/plain": [
       "      User-ID        ISBN  Rating  \\\n",
       "729     11676  0440967694      10   \n",
       "997     11676  0515136530      10   \n",
       "208     11676  0316693324      10   \n",
       "209     11676  0316734837      10   \n",
       "1091    11676  0553574574      10   \n",
       "213     11676  0316777722      10   \n",
       "217     11676  0316779490      10   \n",
       "1063    11676  0553375407      10   \n",
       "1062    11676  0553348973      10   \n",
       "1061    11676  0553297260      10   \n",
       "\n",
       "                                              Title  \n",
       "729                                   The Outsiders  \n",
       "997   Key of Valor (Roberts, Nora. Key Trilogy, 3.)  \n",
       "208                             When the Wind Blows  \n",
       "209                       Fortune's Rocks : A Novel  \n",
       "1091                                    Beach Music  \n",
       "213                          Me Talk Pretty One Day  \n",
       "217                                           Naked  \n",
       "1063   Ishmael: An Adventure of the Mind and Spirit  \n",
       "1062                     Still Life with Woodpecker  \n",
       "1061                                       Darkness  "
      ]
     },
     "execution_count": 11,
     "metadata": {},
     "output_type": "execute_result"
    }
   ],
   "source": [
    "real_rated = df[(df[\"User-ID\"] == 11676)].merge(right=books, how=\"left\", on=\"ISBN\")\n",
    "real_rated[[\"User-ID\", \"ISBN\", \"Rating\", \"Title\"]].sort_values(by=\"Rating\", ascending=False)[:10]"
   ]
  },
  {
   "cell_type": "markdown",
   "id": "8a843e75",
   "metadata": {},
   "source": [
    "Бачимо, що юзер лайкав новели і ми рекомендуємо йому також новели + мейнстрім типу Гарі Потера. Можна було б додатково створити стоп-лист з книг, щоб не рекомендувати мейнстрім, але в цьому завданні пропустимо цей момент.\n",
    "\n",
    "Протестуємо \"холодний старт\" на невідомому для моделі юзері."
   ]
  },
  {
   "cell_type": "code",
   "execution_count": 12,
   "id": "40756cdd",
   "metadata": {},
   "outputs": [
    {
     "data": {
      "text/html": [
       "<div>\n",
       "<style scoped>\n",
       "    .dataframe tbody tr th:only-of-type {\n",
       "        vertical-align: middle;\n",
       "    }\n",
       "\n",
       "    .dataframe tbody tr th {\n",
       "        vertical-align: top;\n",
       "    }\n",
       "\n",
       "    .dataframe thead th {\n",
       "        text-align: right;\n",
       "    }\n",
       "</style>\n",
       "<table border=\"1\" class=\"dataframe\">\n",
       "  <thead>\n",
       "    <tr style=\"text-align: right;\">\n",
       "      <th></th>\n",
       "      <th>ISBN</th>\n",
       "      <th>Rating</th>\n",
       "      <th>Title</th>\n",
       "    </tr>\n",
       "  </thead>\n",
       "  <tbody>\n",
       "    <tr>\n",
       "      <th>0</th>\n",
       "      <td>0316666343</td>\n",
       "      <td>8.262443</td>\n",
       "      <td>The Lovely Bones: A Novel</td>\n",
       "    </tr>\n",
       "    <tr>\n",
       "      <th>1</th>\n",
       "      <td>0385504209</td>\n",
       "      <td>8.644444</td>\n",
       "      <td>The Da Vinci Code</td>\n",
       "    </tr>\n",
       "    <tr>\n",
       "      <th>2</th>\n",
       "      <td>0312195516</td>\n",
       "      <td>8.457364</td>\n",
       "      <td>The Red Tent (Bestselling Backlist)</td>\n",
       "    </tr>\n",
       "    <tr>\n",
       "      <th>3</th>\n",
       "      <td>059035342X</td>\n",
       "      <td>9.081301</td>\n",
       "      <td>Harry Potter and the Sorcerer's Stone (Harry P...</td>\n",
       "    </tr>\n",
       "    <tr>\n",
       "      <th>4</th>\n",
       "      <td>0142001740</td>\n",
       "      <td>8.745763</td>\n",
       "      <td>The Secret Life of Bees</td>\n",
       "    </tr>\n",
       "    <tr>\n",
       "      <th>5</th>\n",
       "      <td>043935806X</td>\n",
       "      <td>8.982301</td>\n",
       "      <td>Harry Potter and the Order of the Phoenix (Boo...</td>\n",
       "    </tr>\n",
       "    <tr>\n",
       "      <th>6</th>\n",
       "      <td>0679781587</td>\n",
       "      <td>8.672566</td>\n",
       "      <td>NaN</td>\n",
       "    </tr>\n",
       "    <tr>\n",
       "      <th>7</th>\n",
       "      <td>0345337662</td>\n",
       "      <td>7.693694</td>\n",
       "      <td>Interview with the Vampire</td>\n",
       "    </tr>\n",
       "    <tr>\n",
       "      <th>8</th>\n",
       "      <td>044021145X</td>\n",
       "      <td>7.907407</td>\n",
       "      <td>The Firm</td>\n",
       "    </tr>\n",
       "    <tr>\n",
       "      <th>9</th>\n",
       "      <td>0446672211</td>\n",
       "      <td>8.396226</td>\n",
       "      <td>Where the Heart Is (Oprah's Book Club (Paperba...</td>\n",
       "    </tr>\n",
       "  </tbody>\n",
       "</table>\n",
       "</div>"
      ],
      "text/plain": [
       "         ISBN    Rating                                              Title\n",
       "0  0316666343  8.262443                          The Lovely Bones: A Novel\n",
       "1  0385504209  8.644444                                  The Da Vinci Code\n",
       "2  0312195516  8.457364                The Red Tent (Bestselling Backlist)\n",
       "3  059035342X  9.081301  Harry Potter and the Sorcerer's Stone (Harry P...\n",
       "4  0142001740  8.745763                            The Secret Life of Bees\n",
       "5  043935806X  8.982301  Harry Potter and the Order of the Phoenix (Boo...\n",
       "6  0679781587  8.672566                                                NaN\n",
       "7  0345337662  7.693694                         Interview with the Vampire\n",
       "8  044021145X  7.907407                                           The Firm\n",
       "9  0446672211  8.396226  Where the Heart Is (Oprah's Book Club (Paperba..."
      ]
     },
     "execution_count": 12,
     "metadata": {},
     "output_type": "execute_result"
    }
   ],
   "source": [
    "unknown_user = get_recommendations(2)\n",
    "\n",
    "books = pd.read_csv(\"datasets/book-crossing/Books.csv\", on_bad_lines=\"skip\", delimiter=\";\")\n",
    "unknown_user.merge(books[[\"Title\", \"ISBN\"]], how=\"left\", on=\"ISBN\")"
   ]
  },
  {
   "cell_type": "markdown",
   "id": "803f213a",
   "metadata": {},
   "source": [
    "Виводиться мейнстрім, як і треба для невідомого юзера."
   ]
  },
  {
   "cell_type": "markdown",
   "id": "74d1a4bd",
   "metadata": {},
   "source": [
    "# Запитання\n",
    "\n",
    "1. Не розумію як тепер правильно додати до KNN фічу Age. Чи це повинно впроваджуватися на етапі семплінгу?\n",
    "2. Не зовсім розумію логіку фільтрації від 50 відгуків по книзі і по юзеру на етапі пре-процесингу? Це через те, що ми не хочемо рекомендувати книги, які отримали мало оцінок і не хочемо показувати рекомендації юзерам, які поки що залишили мало відгуків, вірно? \n",
    "3. Чому було обрано саме 50 відгуків? Як обрати оптимальну кількість відгуків для потрапляння юзера в модель? "
   ]
  }
 ],
 "metadata": {
  "kernelspec": {
   "display_name": "Python 3",
   "language": "python",
   "name": "python3"
  },
  "language_info": {
   "codemirror_mode": {
    "name": "ipython",
    "version": 3
   },
   "file_extension": ".py",
   "mimetype": "text/x-python",
   "name": "python",
   "nbconvert_exporter": "python",
   "pygments_lexer": "ipython3",
   "version": "3.11.9"
  }
 },
 "nbformat": 4,
 "nbformat_minor": 5
}
